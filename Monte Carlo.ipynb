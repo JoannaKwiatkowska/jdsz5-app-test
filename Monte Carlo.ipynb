{
 "cells": [
  {
   "cell_type": "code",
   "execution_count": 1,
   "metadata": {},
   "outputs": [],
   "source": [
    "import math\n",
    "import random\n",
    "import pandas as pd\n",
    "from matplotlib import pyplot as plt\n",
    "import numpy as np\n",
    "from scipy.stats import ttest_ind"
   ]
  },
  {
   "cell_type": "markdown",
   "metadata": {},
   "source": [
    "# Obliczanie pola koła metodą Monte Carlo\n",
    "\n",
    "Losując punkty wewnątrz kwadratu opisanego na kole i sprawdzając ile % z nich leży wewnątrz koła otrzymamy pzybliżoną wartość pola koła\n",
    "W analogiczy sposób można obliczyć wartości skomplikowanych całek oznaczonych"
   ]
  },
  {
   "cell_type": "code",
   "execution_count": 4,
   "metadata": {},
   "outputs": [],
   "source": [
    "r = 2\n",
    "def pk_mc(r,n=1000):\n",
    "    # pole kwadratu\n",
    "    pk = (2 *r)**2\n",
    "    # liczba punktów w kole\n",
    "    nk = 0 \n",
    "    for i in range(n):\n",
    "        #w każdej iteracji losujemy współrzędną x i y z przedziału (-r,r)\n",
    "        los_x = random.uniform(-r,r)\n",
    "        los_y = random.uniform(-r,r)\n",
    "        #sprawdzamy czy współrzędna (los_x,los_y) leży wewnątrz koła\n",
    "        if los_x **2 + los_y**2 <= r **2:\n",
    "            nk+=1 \n",
    "    \n",
    "    pole_mc = pk * (nk/n)\n",
    "    pole_wzor = math.pi * r**2\n",
    "    print('Pole wg wzoru:{0}\\nPole metodą Monte Carlo:{1}, n={2}'.format(pole_wzor,pole_mc,n))\n",
    "    "
   ]
  },
  {
   "cell_type": "code",
   "execution_count": 14,
   "metadata": {},
   "outputs": [
    {
     "name": "stdout",
     "output_type": "stream",
     "text": [
      "Pole wg wzoru:12.566370614359172\n",
      "Pole metodą Monte Carlo:12.57264, n=100000\n"
     ]
    }
   ],
   "source": [
    "pk_mc(r,n=100000)"
   ]
  },
  {
   "cell_type": "markdown",
   "metadata": {},
   "source": [
    "# Metody Mone Carlo moży użyć by zwększyć wiarygodność testu statystycznego\n",
    "\n",
    "Jeżeli mamy dane z jaiejś probki, zawsze musimy pamiętać, że to tylko próbka - cała populacja może wyglądać inaczej. Pewne dane mogły nam się ułożyć przypadkowo.\n",
    "Dlatego też można stosować metodę bootstrapu, czyli losowania ze zwracaniem - dzięki temu za każdym razem nasza wylosowana próbka jest trochę inna i dzięki temu możemy lepiej zabezpieczyć się przed przypadkowością pobrania próbki.\n",
    "\n",
    "\n"
   ]
  },
  {
   "cell_type": "code",
   "execution_count": 2,
   "metadata": {},
   "outputs": [
    {
     "data": {
      "text/html": [
       "<div>\n",
       "<style scoped>\n",
       "    .dataframe tbody tr th:only-of-type {\n",
       "        vertical-align: middle;\n",
       "    }\n",
       "\n",
       "    .dataframe tbody tr th {\n",
       "        vertical-align: top;\n",
       "    }\n",
       "\n",
       "    .dataframe thead th {\n",
       "        text-align: right;\n",
       "    }\n",
       "</style>\n",
       "<table border=\"1\" class=\"dataframe\">\n",
       "  <thead>\n",
       "    <tr style=\"text-align: right;\">\n",
       "      <th></th>\n",
       "      <th>Unnamed: 0</th>\n",
       "      <th>INCIDENT_NUMBER</th>\n",
       "      <th>OFFENSE_CODE</th>\n",
       "      <th>OFFENSE_CODE_GROUP</th>\n",
       "      <th>OFFENSE_DESCRIPTION</th>\n",
       "      <th>DISTRICT</th>\n",
       "      <th>REPORTING_AREA</th>\n",
       "      <th>SHOOTING</th>\n",
       "      <th>OCCURRED_ON_DATE</th>\n",
       "      <th>YEAR</th>\n",
       "      <th>MONTH</th>\n",
       "      <th>DAY_OF_WEEK</th>\n",
       "      <th>HOUR</th>\n",
       "      <th>UCR_PART</th>\n",
       "      <th>STREET</th>\n",
       "      <th>Lat</th>\n",
       "      <th>Long</th>\n",
       "      <th>Location</th>\n",
       "      <th>date</th>\n",
       "    </tr>\n",
       "  </thead>\n",
       "  <tbody>\n",
       "    <tr>\n",
       "      <th>0</th>\n",
       "      <td>0</td>\n",
       "      <td>I182070945</td>\n",
       "      <td>619</td>\n",
       "      <td>Larceny</td>\n",
       "      <td>LARCENY ALL OTHERS</td>\n",
       "      <td>D14</td>\n",
       "      <td>808</td>\n",
       "      <td>NaN</td>\n",
       "      <td>2018-09-02 13:00:00</td>\n",
       "      <td>2018</td>\n",
       "      <td>9</td>\n",
       "      <td>Sunday</td>\n",
       "      <td>13</td>\n",
       "      <td>Part One</td>\n",
       "      <td>LINCOLN ST</td>\n",
       "      <td>42.357791</td>\n",
       "      <td>-71.139371</td>\n",
       "      <td>(42.35779134, -71.13937053)</td>\n",
       "      <td>2018-09-02</td>\n",
       "    </tr>\n",
       "    <tr>\n",
       "      <th>1</th>\n",
       "      <td>36</td>\n",
       "      <td>I182070892</td>\n",
       "      <td>613</td>\n",
       "      <td>Larceny</td>\n",
       "      <td>LARCENY SHOPLIFTING</td>\n",
       "      <td>B2</td>\n",
       "      <td>276</td>\n",
       "      <td>NaN</td>\n",
       "      <td>2018-09-03 17:54:00</td>\n",
       "      <td>2018</td>\n",
       "      <td>9</td>\n",
       "      <td>Monday</td>\n",
       "      <td>17</td>\n",
       "      <td>Part One</td>\n",
       "      <td>SHAWMUT AVE</td>\n",
       "      <td>42.333183</td>\n",
       "      <td>-71.083076</td>\n",
       "      <td>(42.33318299, -71.08307607)</td>\n",
       "      <td>2018-09-03</td>\n",
       "    </tr>\n",
       "    <tr>\n",
       "      <th>2</th>\n",
       "      <td>45</td>\n",
       "      <td>I182070885</td>\n",
       "      <td>619</td>\n",
       "      <td>Larceny</td>\n",
       "      <td>LARCENY ALL OTHERS</td>\n",
       "      <td>B3</td>\n",
       "      <td>456</td>\n",
       "      <td>NaN</td>\n",
       "      <td>2018-09-03 17:17:00</td>\n",
       "      <td>2018</td>\n",
       "      <td>9</td>\n",
       "      <td>Monday</td>\n",
       "      <td>17</td>\n",
       "      <td>Part One</td>\n",
       "      <td>ELLINGTON ST</td>\n",
       "      <td>42.301546</td>\n",
       "      <td>-71.081182</td>\n",
       "      <td>(42.30154555, -71.08118184)</td>\n",
       "      <td>2018-09-03</td>\n",
       "    </tr>\n",
       "    <tr>\n",
       "      <th>3</th>\n",
       "      <td>54</td>\n",
       "      <td>I182070874</td>\n",
       "      <td>617</td>\n",
       "      <td>Larceny</td>\n",
       "      <td>LARCENY THEFT FROM BUILDING</td>\n",
       "      <td>A1</td>\n",
       "      <td>102</td>\n",
       "      <td>NaN</td>\n",
       "      <td>2018-09-03 16:00:00</td>\n",
       "      <td>2018</td>\n",
       "      <td>9</td>\n",
       "      <td>Monday</td>\n",
       "      <td>16</td>\n",
       "      <td>Part One</td>\n",
       "      <td>WINTER ST</td>\n",
       "      <td>42.356024</td>\n",
       "      <td>-71.061776</td>\n",
       "      <td>(42.35602373, -71.06177615)</td>\n",
       "      <td>2018-09-03</td>\n",
       "    </tr>\n",
       "    <tr>\n",
       "      <th>4</th>\n",
       "      <td>60</td>\n",
       "      <td>I182070868</td>\n",
       "      <td>616</td>\n",
       "      <td>Larceny</td>\n",
       "      <td>LARCENY THEFT OF BICYCLE</td>\n",
       "      <td>D14</td>\n",
       "      <td>790</td>\n",
       "      <td>NaN</td>\n",
       "      <td>2018-09-03 06:15:00</td>\n",
       "      <td>2018</td>\n",
       "      <td>9</td>\n",
       "      <td>Monday</td>\n",
       "      <td>6</td>\n",
       "      <td>Part One</td>\n",
       "      <td>CHESTNUT HILL AVE</td>\n",
       "      <td>42.335400</td>\n",
       "      <td>-71.150257</td>\n",
       "      <td>(42.33539970, -71.15025675)</td>\n",
       "      <td>2018-09-03</td>\n",
       "    </tr>\n",
       "  </tbody>\n",
       "</table>\n",
       "</div>"
      ],
      "text/plain": [
       "   Unnamed: 0 INCIDENT_NUMBER  OFFENSE_CODE OFFENSE_CODE_GROUP  \\\n",
       "0           0      I182070945           619            Larceny   \n",
       "1          36      I182070892           613            Larceny   \n",
       "2          45      I182070885           619            Larceny   \n",
       "3          54      I182070874           617            Larceny   \n",
       "4          60      I182070868           616            Larceny   \n",
       "\n",
       "           OFFENSE_DESCRIPTION DISTRICT REPORTING_AREA  SHOOTING  \\\n",
       "0           LARCENY ALL OTHERS      D14            808       NaN   \n",
       "1          LARCENY SHOPLIFTING       B2            276       NaN   \n",
       "2           LARCENY ALL OTHERS       B3            456       NaN   \n",
       "3  LARCENY THEFT FROM BUILDING       A1            102       NaN   \n",
       "4     LARCENY THEFT OF BICYCLE      D14            790       NaN   \n",
       "\n",
       "      OCCURRED_ON_DATE  YEAR  MONTH DAY_OF_WEEK  HOUR  UCR_PART  \\\n",
       "0  2018-09-02 13:00:00  2018      9      Sunday    13  Part One   \n",
       "1  2018-09-03 17:54:00  2018      9      Monday    17  Part One   \n",
       "2  2018-09-03 17:17:00  2018      9      Monday    17  Part One   \n",
       "3  2018-09-03 16:00:00  2018      9      Monday    16  Part One   \n",
       "4  2018-09-03 06:15:00  2018      9      Monday     6  Part One   \n",
       "\n",
       "              STREET        Lat       Long                     Location  \\\n",
       "0         LINCOLN ST  42.357791 -71.139371  (42.35779134, -71.13937053)   \n",
       "1        SHAWMUT AVE  42.333183 -71.083076  (42.33318299, -71.08307607)   \n",
       "2       ELLINGTON ST  42.301546 -71.081182  (42.30154555, -71.08118184)   \n",
       "3          WINTER ST  42.356024 -71.061776  (42.35602373, -71.06177615)   \n",
       "4  CHESTNUT HILL AVE  42.335400 -71.150257  (42.33539970, -71.15025675)   \n",
       "\n",
       "         date  \n",
       "0  2018-09-02  \n",
       "1  2018-09-03  \n",
       "2  2018-09-03  \n",
       "3  2018-09-03  \n",
       "4  2018-09-03  "
      ]
     },
     "execution_count": 2,
     "metadata": {},
     "output_type": "execute_result"
    }
   ],
   "source": [
    "crime = pd.read_csv('data/boston_crime.csv', engine='python')\n",
    "\n",
    "# obliczamy liczbę przestępstw kradzieży w każdym dniu\n",
    "daily = crime.groupby(['date','DAY_OF_WEEK']).count()['INCIDENT_NUMBER'].reset_index()\n",
    "crime.head()"
   ]
  },
  {
   "cell_type": "code",
   "execution_count": 3,
   "metadata": {},
   "outputs": [
    {
     "data": {
      "text/html": [
       "<div>\n",
       "<style scoped>\n",
       "    .dataframe tbody tr th:only-of-type {\n",
       "        vertical-align: middle;\n",
       "    }\n",
       "\n",
       "    .dataframe tbody tr th {\n",
       "        vertical-align: top;\n",
       "    }\n",
       "\n",
       "    .dataframe thead th {\n",
       "        text-align: right;\n",
       "    }\n",
       "</style>\n",
       "<table border=\"1\" class=\"dataframe\">\n",
       "  <thead>\n",
       "    <tr style=\"text-align: right;\">\n",
       "      <th></th>\n",
       "      <th>INCIDENT_NUMBER</th>\n",
       "    </tr>\n",
       "    <tr>\n",
       "      <th>DAY_OF_WEEK</th>\n",
       "      <th></th>\n",
       "    </tr>\n",
       "  </thead>\n",
       "  <tbody>\n",
       "    <tr>\n",
       "      <th>Friday</th>\n",
       "      <td>22.800000</td>\n",
       "    </tr>\n",
       "    <tr>\n",
       "      <th>Monday</th>\n",
       "      <td>21.507143</td>\n",
       "    </tr>\n",
       "    <tr>\n",
       "      <th>Saturday</th>\n",
       "      <td>21.235714</td>\n",
       "    </tr>\n",
       "    <tr>\n",
       "      <th>Sunday</th>\n",
       "      <td>17.921429</td>\n",
       "    </tr>\n",
       "    <tr>\n",
       "      <th>Thursday</th>\n",
       "      <td>22.302158</td>\n",
       "    </tr>\n",
       "    <tr>\n",
       "      <th>Tuesday</th>\n",
       "      <td>22.244604</td>\n",
       "    </tr>\n",
       "    <tr>\n",
       "      <th>Wednesday</th>\n",
       "      <td>21.956835</td>\n",
       "    </tr>\n",
       "  </tbody>\n",
       "</table>\n",
       "</div>"
      ],
      "text/plain": [
       "             INCIDENT_NUMBER\n",
       "DAY_OF_WEEK                 \n",
       "Friday             22.800000\n",
       "Monday             21.507143\n",
       "Saturday           21.235714\n",
       "Sunday             17.921429\n",
       "Thursday           22.302158\n",
       "Tuesday            22.244604\n",
       "Wednesday          21.956835"
      ]
     },
     "execution_count": 3,
     "metadata": {},
     "output_type": "execute_result"
    }
   ],
   "source": [
    "daily.groupby('DAY_OF_WEEK').mean()"
   ]
  },
  {
   "cell_type": "markdown",
   "metadata": {},
   "source": [
    "Chcemy zbadać czy średnia liczba przestępstw w piatki jest istotnie wyższa niż w soboty"
   ]
  },
  {
   "cell_type": "code",
   "execution_count": 17,
   "metadata": {},
   "outputs": [
    {
     "name": "stdout",
     "output_type": "stream",
     "text": [
      "Ttest_indResult(statistic=2.3490465606892728, pvalue=0.019521699391858525)\n"
     ]
    }
   ],
   "source": [
    "x = np.array(daily.loc[daily['DAY_OF_WEEK'] == 'Friday' ]['INCIDENT_NUMBER'])\n",
    "y = np.array(daily.loc[daily['DAY_OF_WEEK'] == 'Saturday' ]['INCIDENT_NUMBER'])\n",
    "\n",
    "print(ttest_ind(x,y))"
   ]
  },
  {
   "cell_type": "markdown",
   "metadata": {},
   "source": [
    "p-value testu wyszło nam mniejsze niż 0.05 więc wg testu różnica jest istotna\n",
    "\n",
    "Ale mimo to mamy na uwadzę, że dane mogą się trochę różnić od rzeczywistości oraz wiemy że dysponujemy tylko pewną liczbą dni chcemy się upewnić. Dlatego przeprowadzimy symulację"
   ]
  },
  {
   "cell_type": "code",
   "execution_count": 18,
   "metadata": {},
   "outputs": [],
   "source": [
    "def test_bootstrap(x,y,n=1000,alpha=0.05):\n",
    "    pvalues= []\n",
    "    for i in range(n):\n",
    "        # losujemy ze zwracaniem wektory\n",
    "        sample_x = np.random.choice(x,len(x),replace=True)\n",
    "        sample_y = np.random.choice(y,len(y),replace=True)\n",
    "        #test t-studenta\n",
    "        tst = ttest_ind(sample_x,sample_y)\n",
    "        # czy wynik jest istotny\n",
    "        p = (tst.pvalue < alpha)*1\n",
    "        pvalues.append(p)\n",
    "        \n",
    "    print('Wynik testu istotny w {0} symulacji'.format(  \"{:.1%}\".format(np.mean(pvalues) )))"
   ]
  },
  {
   "cell_type": "code",
   "execution_count": 19,
   "metadata": {},
   "outputs": [
    {
     "name": "stdout",
     "output_type": "stream",
     "text": [
      "Wynik testu istotny w 63.7% symulacji\n"
     ]
    }
   ],
   "source": [
    "test_bootstrap(x,y)"
   ]
  },
  {
   "cell_type": "markdown",
   "metadata": {},
   "source": [
    "Z symulacji wyszło nam że tylko w ok 65% przypadków wynik jest istotny więc wniosek z tego taki, że nie możemy z przekonaniem stwiedzić, że w piątki jest więcej przstepstw niż w soboty"
   ]
  },
  {
   "cell_type": "markdown",
   "metadata": {},
   "source": [
    "Możemy też do symulacji dodać jakieś dodatkowe czynniki. W przykłdzie takim czynnikiem będzie to, że wiemy że część zaraportowanych przestepstw tak naprawdę nastąpiła dzień wcześniej - więc wg naszych danych w danym dniu możeby być w wiecej lub mniej zaraportowanych przestepstw niż rzeczyiście\n",
    "\n",
    "Założymy, że tą różnicę będzie charakteryzować zmienna losowa, będąca zaokrągleniem liczby z rozkładu normalnego"
   ]
  },
  {
   "cell_type": "code",
   "execution_count": 20,
   "metadata": {},
   "outputs": [],
   "source": [
    "def test_symulacja(x,y,xm,y_m,xs,ys,n=1000,alpha=0.05):\n",
    "    #xm,xs - śrdnia i odchylenie rozkałdu normalnego charakteryzująca różnicę zaraportowanych przestępstw dla piątku\n",
    "    #ym,ys - analogicznie dla soboty\n",
    "    pvalues= []\n",
    "    for i in range(n):\n",
    "        #dodajemy wylosowane różnice\n",
    "        sample_x = x + np.random.normal(xm,xs,len(x)).round()\n",
    "        sample_y = y + np.random.normal(y_m,ys,len(y)).round()\n",
    "        tst = ttest_ind(sample_x,sample_y)\n",
    "        p = (tst.pvalue < alpha)*1\n",
    "        pvalues.append(p)\n",
    "    print('Wynik testu istotny w {0} symulacji'.format(  \"{:.1%}\".format(np.mean(pvalues) )))"
   ]
  },
  {
   "cell_type": "code",
   "execution_count": 21,
   "metadata": {},
   "outputs": [
    {
     "name": "stdout",
     "output_type": "stream",
     "text": [
      "Wynik testu istotny w 52.7% symulacji\n"
     ]
    }
   ],
   "source": [
    "test_symulacja(x,y,0,0.2,1.5,1.2)"
   ]
  },
  {
   "cell_type": "markdown",
   "metadata": {},
   "source": [
    "Test T-sdudenta ma swoje założenia - normlanośc rozkładów oraz równość wariancji (Dla nierównych wariancji możemy zastosować uogólniony test T-Welcha)\n",
    "\n",
    "Metodą bootstrapu możemy wyliczyć bootstrapowe przedziały ufności.\n",
    "\n",
    "Będziemy w N krokach losować próbki ze zwracaniem jak w przykładach powyżej. W każdym kroku odejmiemy od siebie średnie z wylosowanych próbek.\n",
    "Nastepnie na podstawie wektora różnic wyznaczamy bootstrapowy przedział ufności.\n",
    "Jeżeli 0 bedzie należało do tego przedziału wówczas nie będziemy mieli podstaw do stwierdzenia, że różnice są isotne.\n",
    "W przeciwnym wypadku uznamy różnicę za istotnie różną od 0.\n"
   ]
  },
  {
   "cell_type": "code",
   "execution_count": 37,
   "metadata": {},
   "outputs": [],
   "source": [
    "def bootstrap_przedzial_roznicy(x,y,n=1000,alpha=0.05):\n",
    "    diff = []\n",
    "    for i in range(n):\n",
    "        # losujemy e zwracaniem i liczymy różnicę\n",
    "        sample_x = np.random.choice(x,len(x),replace=True)\n",
    "        sample_y = np.random.choice(y,len(y),replace=True)\n",
    "        diff.append(np.mean(sample_x)-np.mean(sample_y))\n",
    "    #wyliczamy przedział ufności dla róznic\n",
    "    orig_diff = np.mean(x) - np.mean(y)\n",
    "    # przedział dolny \n",
    "    lcb =  orig_diff + np.percentile(diff,alpha/2)\n",
    "    # przedział górny \n",
    "    ucb =  orig_diff + np.percentile(diff,1-alpha/2)\n",
    "    include_zero = lcb < 0 and ucb >0 \n",
    "    if include_zero:\n",
    "        info = '0 zawiera się w przedziale ufności, więc nie mamy podstaw twierdzić że róznica jest istotna.'\n",
    "    else:\n",
    "        info = '0 nie zawiera się w przedziale ufności, więc przyjmujemy różnicę za istotną.'\n",
    "    \n",
    "    print('Przedział ufności różnic: ({0},{1})'.format(lcb.round(4),ucb.round(4)))\n",
    "    print(info)\n",
    "    "
   ]
  },
  {
   "cell_type": "code",
   "execution_count": 38,
   "metadata": {},
   "outputs": [
    {
     "name": "stdout",
     "output_type": "stream",
     "text": [
      "Przedział ufności różnic: (0.8232,1.4106)\n",
      "0 nie zawiera się w przedziale ufności, więc przyjmujemy różnicę za istotną.\n"
     ]
    }
   ],
   "source": [
    "bootstrap_przedzial_roznicy(x,y,n=1000,alpha=0.05)"
   ]
  },
  {
   "cell_type": "markdown",
   "metadata": {},
   "source": [
    "# Symulacja Monte Carlo przewidująca różn scenariusze na przykładzie predykcji ceny indeksu giełdowego\n",
    "\n",
    "Za pomocą symulacji będziemy chcieli przewidzeć cenę indeksu WIG20 \n",
    "Weźmiemy dane historyczne i sprawdzimy rozkład dziennych stop zwrotu \n",
    "Nastepnie na podstawie tego rozkładu spróbujemy wygenerować scenariusze jak indeks może się zachować\n"
   ]
  },
  {
   "cell_type": "code",
   "execution_count": 32,
   "metadata": {},
   "outputs": [],
   "source": [
    "wig = pd.read_csv('data/wig20_d.csv')\n",
    "\n",
    "zam = wig['Zamkniecie']\n",
    "#Obliczamy dzienne stopy zwrot\n",
    "wig['stopa'] = [ 0 if i==0 else (zam[i]-zam[i-1])/zam[i-1]   for i in range(len(zam))]\n",
    "\n",
    "#Bieżemy dane z okresu 2015 -2019, spróbujemy zasymulować cenę na koniec 2019 roku\n",
    "train_data = wig.loc[ (wig['Data'] >= '2015-01-01') & (wig['Data'] < '2019-01-01')  ]\n",
    "m = np.mean(train_data['stopa'])\n",
    "sd = np.std(train_data['stopa'])"
   ]
  },
  {
   "cell_type": "code",
   "execution_count": 33,
   "metadata": {},
   "outputs": [
    {
     "data": {
      "image/png": "[encoded data removed]",
      "text/plain": [
       "<Figure size 432x288 with 1 Axes>"
      ]
     },
     "metadata": {
      "needs_background": "light"
     },
     "output_type": "display_data"
    }
   ],
   "source": [
    "plt.hist(train_data['stopa']);"
   ]
  },
  {
   "cell_type": "markdown",
   "metadata": {},
   "source": [
    "Założymy że dane są z rozkładu normalnego "
   ]
  },
  {
   "cell_type": "code",
   "execution_count": 34,
   "metadata": {},
   "outputs": [],
   "source": [
    "#Tworzymy trajektorę:\n",
    "#startujemy w danym punkcie i następny dzień będzie różnić się od poporzedniego o wylosowaną liczbę z rozkłądu normalnego\n",
    "def trajektoria(start,n,m,sd):\n",
    "    dzien = 1\n",
    "    trajektoria = []\n",
    "    for d in range(n):\n",
    "        dzien = dzien + np.random.normal(m,sd)\n",
    "        trajektoria.append(dzien)\n",
    "    return np.array(trajektoria) * start"
   ]
  },
  {
   "cell_type": "code",
   "execution_count": 35,
   "metadata": {},
   "outputs": [
    {
     "data": {
      "image/png": "[encoded data removed]",
      "text/plain": [
       "<Figure size 432x288 with 1 Axes>"
      ]
     },
     "metadata": {
      "needs_background": "light"
     },
     "output_type": "display_data"
    }
   ],
   "source": [
    "st = float(wig.loc[wig['Data']=='2019-01-02']['Zamkniecie']) # wartość początkowa 0 pierwszy dzień giełdowy w 2019\n",
    "tst_data = wig.loc[ (wig['Data'] >= '2019-01-01') & (wig['Data'] <= '2019-12-31')  ] \n",
    "#liczba dni notowań w 2019\n",
    "n = len(tst_data)\n",
    "#Rysujemy pojedynczą trajektorię\n",
    "t = trajektoria(st,n,m,sd)\n",
    "plt.plot(t);"
   ]
  },
  {
   "cell_type": "markdown",
   "metadata": {},
   "source": [
    "Tak wygląda przykłądowy scenariusz.\n",
    "Teraz metodą Monte Carlo będziemy generować n scenariuszy.\n",
    "Na ich podstawie wyliczymy średnią i dchylenie możliwych wartości na koniec 2019 roku"
   ]
  },
  {
   "cell_type": "code",
   "execution_count": 38,
   "metadata": {},
   "outputs": [],
   "source": [
    "def symulacja(start,n,m,sd,n_symul):\n",
    "    wynik = []\n",
    "    for i in range(n_symul):\n",
    "        tr = trajektoria(st,n,m,sd)\n",
    "        wynik.append(tr[-1])\n",
    "    return wynik\n",
    "\n",
    "rozklad_wynik = symulacja(st,n,m,sd,10000)  "
   ]
  },
  {
   "cell_type": "code",
   "execution_count": 37,
   "metadata": {},
   "outputs": [
    {
     "data": {
      "image/png": "[encoded data removed]",
      "text/plain": [
       "<Figure size 432x288 with 1 Axes>"
      ]
     },
     "metadata": {
      "needs_background": "light"
     },
     "output_type": "display_data"
    }
   ],
   "source": [
    "plt.hist(rozklad_wynik);"
   ]
  },
  {
   "cell_type": "code",
   "execution_count": 39,
   "metadata": {},
   "outputs": [
    {
     "name": "stdout",
     "output_type": "stream",
     "text": [
      "Wg symulcji Monte Carlo cena wynosi 2322.5966263451137 +- 400.7805132032851 a wartoc realna to 2150.09\n"
     ]
    }
   ],
   "source": [
    "real = float(wig.loc[wig['Data']=='2019-12-30']['Zamkniecie'])\n",
    "\n",
    "wynik_m = np.mean(rozklad_wynik)\n",
    "wynik_sd = np.std(rozklad_wynik)\n",
    "\n",
    "print('Wg symulcji Monte Carlo cena wynosi {0} +- {1} a wartoc realna to {2}'.format(wynik_m,wynik_sd,real))"
   ]
  }
 ],
 "metadata": {
  "kernelspec": {
   "display_name": "Python 3",
   "language": "python",
   "name": "python3"
  },
  "language_info": {
   "codemirror_mode": {
    "name": "ipython",
    "version": 3
   },
   "file_extension": ".py",
   "mimetype": "text/x-python",
   "name": "python",
   "nbconvert_exporter": "python",
   "pygments_lexer": "ipython3",
   "version": "3.6.8"
  }
 },
 "nbformat": 4,
 "nbformat_minor": 2
}
