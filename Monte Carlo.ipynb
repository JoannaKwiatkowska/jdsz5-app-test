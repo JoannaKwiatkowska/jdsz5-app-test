{
 "cells": [
  {
   "cell_type": "code",
   "execution_count": 1,
   "metadata": {},
   "outputs": [],
   "source": [
    "import math\n",
    "import random\n",
    "import pandas as pd\n",
    "from matplotlib import pyplot as plt\n",
    "import numpy as np\n",
    "from scipy.stats import ttest_ind"
   ]
  },
  {
   "cell_type": "markdown",
   "metadata": {},
   "source": [
    "# Obliczanie pola koła metodą Monte Carlo\n",
    "\n",
    "Losując punkty wewnątrz kwadratu opisanego na kole i sprawdzając ile % z nich leży wewnątrz koła otrzymamy pzybliżoną wartość pola koła\n",
    "W analogiczy sposób można obliczyć wartości skomplikowanych całek oznaczonych"
   ]
  },
  {
   "cell_type": "code",
   "execution_count": 3,
   "metadata": {},
   "outputs": [],
   "source": [
    "r = 2\n",
    "\n",
    "def pk_mc(r,n=1000):\n",
    "    # pole kwadratu\n",
    "    pk = (2 *r)**2\n",
    "    # liczba punktów w kole\n",
    "    nk = 0 \n",
    "    for i in range(n):\n",
    "        #w każdej iteracji losujemy współrzędną x i y z przedziału (-r,r)\n",
    "        los_x = random.uniform(-r,r)\n",
    "        los_y = random.uniform(-r,r)\n",
    "        #sprawdzamy czy współrzędna (los_x,los_y) leży wewnątrz koła\n",
    "        if los_x **2 + los_y**2 <= r **2:\n",
    "            nk+=1 \n",
    "    \n",
    "    pole_mc = pk * (nk/n)\n",
    "    pole_wzor = math.pi * r**2\n",
    "    print('Pole wg wzoru:{0}\\nPole metodą Monte Carlo:{1}, n={2}'.format(pole_wzor,pole_mc,n))\n",
    "    "
   ]
  },
  {
   "cell_type": "code",
   "execution_count": 16,
   "metadata": {},
   "outputs": [
    {
     "name": "stdout",
     "output_type": "stream",
     "text": [
      "Pole wg wzoru:12.566370614359172\n",
      "Pole metodą Monte Carlo:12.57664, n=100000\n"
     ]
    }
   ],
   "source": [
    "pk_mc(r,n=100000)"
   ]
  },
  {
   "cell_type": "markdown",
   "metadata": {},
   "source": [
    "# Metody Mone Carlo moży użyć by zwększyć wiarygodność testu statystycznego\n",
    "\n",
    "Jeżeli mamy dane z jaiejś probki, zawsze musimy pamiętać, że to tylko próbka - cała populacja może wyglądać inaczej. Pewne dane mogły nam się ułożyć przypadkowo.\n",
    "Dlatego też można stosować metodę bootstrapu, czyli losowania ze zwracaniem - dzięki temu za każdym razem nasza wylosowana próbka jest trochę inna i dzięki temu możemy lepiej zabezpieczyć się przed przypadkowością pobrania próbki.\n",
    "\n",
    "\n"
   ]
  },
  {
   "cell_type": "code",
   "execution_count": 17,
   "metadata": {},
   "outputs": [],
   "source": [
    "crime = pd.read_csv('data/boston_crime.csv', engine='python')\n",
    "crime.head()\n",
    "# obliczamy liczbę przestępstw kradzieży w każdym dniu\n",
    "daily = crime.groupby(['date','DAY_OF_WEEK']).count()['INCIDENT_NUMBER'].reset_index()"
   ]
  },
  {
   "cell_type": "code",
   "execution_count": 18,
   "metadata": {},
   "outputs": [
    {
     "data": {
      "text/html": [
       "<div>\n",
       "<style scoped>\n",
       "    .dataframe tbody tr th:only-of-type {\n",
       "        vertical-align: middle;\n",
       "    }\n",
       "\n",
       "    .dataframe tbody tr th {\n",
       "        vertical-align: top;\n",
       "    }\n",
       "\n",
       "    .dataframe thead th {\n",
       "        text-align: right;\n",
       "    }\n",
       "</style>\n",
       "<table border=\"1\" class=\"dataframe\">\n",
       "  <thead>\n",
       "    <tr style=\"text-align: right;\">\n",
       "      <th></th>\n",
       "      <th>INCIDENT_NUMBER</th>\n",
       "    </tr>\n",
       "    <tr>\n",
       "      <th>DAY_OF_WEEK</th>\n",
       "      <th></th>\n",
       "    </tr>\n",
       "  </thead>\n",
       "  <tbody>\n",
       "    <tr>\n",
       "      <th>Friday</th>\n",
       "      <td>22.800000</td>\n",
       "    </tr>\n",
       "    <tr>\n",
       "      <th>Monday</th>\n",
       "      <td>21.507143</td>\n",
       "    </tr>\n",
       "    <tr>\n",
       "      <th>Saturday</th>\n",
       "      <td>21.235714</td>\n",
       "    </tr>\n",
       "    <tr>\n",
       "      <th>Sunday</th>\n",
       "      <td>17.921429</td>\n",
       "    </tr>\n",
       "    <tr>\n",
       "      <th>Thursday</th>\n",
       "      <td>22.302158</td>\n",
       "    </tr>\n",
       "    <tr>\n",
       "      <th>Tuesday</th>\n",
       "      <td>22.244604</td>\n",
       "    </tr>\n",
       "    <tr>\n",
       "      <th>Wednesday</th>\n",
       "      <td>21.956835</td>\n",
       "    </tr>\n",
       "  </tbody>\n",
       "</table>\n",
       "</div>"
      ],
      "text/plain": [
       "             INCIDENT_NUMBER\n",
       "DAY_OF_WEEK                 \n",
       "Friday             22.800000\n",
       "Monday             21.507143\n",
       "Saturday           21.235714\n",
       "Sunday             17.921429\n",
       "Thursday           22.302158\n",
       "Tuesday            22.244604\n",
       "Wednesday          21.956835"
      ]
     },
     "execution_count": 18,
     "metadata": {},
     "output_type": "execute_result"
    }
   ],
   "source": [
    "daily.groupby('DAY_OF_WEEK').mean()"
   ]
  },
  {
   "cell_type": "markdown",
   "metadata": {},
   "source": [
    "Chcemy zbadać czy średnia liczba przestępstw w piatki jest istotnie wyższa niż w soboty"
   ]
  },
  {
   "cell_type": "code",
   "execution_count": 19,
   "metadata": {},
   "outputs": [
    {
     "name": "stdout",
     "output_type": "stream",
     "text": [
      "Ttest_indResult(statistic=2.3490465606892728, pvalue=0.019521699391858525)\n"
     ]
    }
   ],
   "source": [
    "x = np.array(daily.loc[daily['DAY_OF_WEEK'] == 'Friday' ]['INCIDENT_NUMBER'])\n",
    "y = np.array(daily.loc[daily['DAY_OF_WEEK'] == 'Saturday' ]['INCIDENT_NUMBER'])\n",
    "\n",
    "print(ttest_ind(x,y))"
   ]
  },
  {
   "cell_type": "markdown",
   "metadata": {},
   "source": [
    "p-value testu wyszło nam mniejsze niż 0.05 więc wg testu różnica jest istotna\n",
    "\n",
    "Ale mimo to mamy na uwadzę, że dane mogą się trochę różnić od rzeczywistości oraz wiemy że dysponujemy tylko pewną liczbą dni chcemy się upewnić. Dlatego przeprowadzimy symulację"
   ]
  },
  {
   "cell_type": "code",
   "execution_count": 20,
   "metadata": {},
   "outputs": [],
   "source": [
    "def test_bootstrap(x,y,n=1000,alpha=0.05):\n",
    "    pvalues= []\n",
    "    for i in range(n):\n",
    "        # losujemy ze zwracaniem wektory\n",
    "        sample_x = np.random.choice(x,len(x),replace=True)\n",
    "        sample_y = np.random.choice(y,len(y),replace=True)\n",
    "        #test t-studenta\n",
    "        tst = ttest_ind(sample_x,sample_y)\n",
    "        # czy wynik jest istotny\n",
    "        p = (tst.pvalue < alpha)*1\n",
    "        pvalues.append(p)\n",
    "        \n",
    "    print('Wynik testu istotny w {0} symulacji'.format(  \"{:.1%}\".format(np.mean(pvalues) )))"
   ]
  },
  {
   "cell_type": "code",
   "execution_count": 21,
   "metadata": {},
   "outputs": [
    {
     "name": "stdout",
     "output_type": "stream",
     "text": [
      "Wynik testu istotny w 64.8% symulacji\n"
     ]
    }
   ],
   "source": [
    "test_bootstrap(x,y)"
   ]
  },
  {
   "cell_type": "markdown",
   "metadata": {},
   "source": [
    "Z symulacji wyszło nam że tylko w ok 65% przypadków wynik jest istotny więc wniosek z tego taki, że nie możemy z przekonaniem stwiedzić, że w piątki jest więcej przstepstw niż w soboty"
   ]
  },
  {
   "cell_type": "markdown",
   "metadata": {},
   "source": [
    "Możemy też do symulacji dodać jakieś dodatkowe czynniki. W przykłdzie takim czynnikiem będzie to, że wiemy że część zaraportowanych przestepstw tak naprawdę nastąpiła dzień wcześniej - więc wg naszych danych w danym dniu możeby być w wiecej lub mniej zaraportowanych przestepstw niż rzeczyiście\n",
    "\n",
    "Założymy, że tą różnicę będzie charakteryzować zmienna losowa, będąca zaokrągleniem liczby z rozkładu normalnego"
   ]
  },
  {
   "cell_type": "code",
   "execution_count": 24,
   "metadata": {},
   "outputs": [],
   "source": [
    "def test_symulacja(x,y,xm,y_m,xs,ys,n=1000,alpha=0.05):\n",
    "    #xm,xs - śrdnia i odchylenie rozkałdu normalnego charakteryzująca różnicę zaraportowanych przestępstw dla piątku\n",
    "    #ym,ys - analogicznie dla soboty\n",
    "    pvalues= []\n",
    "    for i in range(n):\n",
    "        #dodajemy wylosowane różnice\n",
    "        sample_x = x + np.random.normal(xm,xs,len(x)).round()\n",
    "        sample_y = y + np.random.normal(y_m,ys,len(y)).round()\n",
    "        tst = ttest_ind(sample_x,sample_y)\n",
    "        p = (tst.pvalue < alpha)*1\n",
    "        pvalues.append(p)\n",
    "    print('Wynik testu istotny w {0} symulacji'.format(  \"{:.1%}\".format(np.mean(pvalues) )))"
   ]
  },
  {
   "cell_type": "code",
   "execution_count": 25,
   "metadata": {},
   "outputs": [
    {
     "name": "stdout",
     "output_type": "stream",
     "text": [
      "Wynik testu istotny w 52.8% symulacji\n"
     ]
    }
   ],
   "source": [
    "test_symulacja(x,y,0,0.2,1.5,1.2)"
   ]
  },
  {
   "cell_type": "markdown",
   "metadata": {},
   "source": [
    "# Symulacja Monte Carlo przewidująca różn scenariusze na przykładzie predykcji ceny indeksu giełdowego\n",
    "\n",
    "Za pomocą symulacji będziemy chcieli przewidzeć cenę indeksu WIG20 \n",
    "Weźmiemy dane historyczne i sprawdzimy rozkład dziennych stop zwrotu \n",
    "Nastepnie na podstawie tego rozkładu spróbujemy wygenerować scenariusze jak indeks może się zachować\n"
   ]
  },
  {
   "cell_type": "code",
   "execution_count": 28,
   "metadata": {},
   "outputs": [],
   "source": [
    "wig = pd.read_csv('data/wig20_d.csv')\n",
    "\n",
    "zam = wig['Zamkniecie']\n",
    "#Obliczamy dzienne stopy zwrot\n",
    "wig['stopa'] = [ 0 if i==0 else (zam[i]-zam[i-1])/zam[i-1]   for i in range(len(zam))]\n",
    "\n",
    "#Bieżemy dane z okresu 2015 -2019, spróbujemy zasymulować cenę na koniec 2019 roku\n",
    "train_data = wig.loc[ (wig['Data'] >= '2015-01-01') & (wig['Data'] < '2019-01-01')  ]\n",
    "m = np.mean(train_data['stopa'])\n",
    "sd = np.std(train_data['stopa'])"
   ]
  },
  {
   "cell_type": "code",
   "execution_count": 38,
   "metadata": {},
   "outputs": [
    {
     "data": {
      "image/png": "[encoded data removed]",
      "text/plain": [
       "<Figure size 432x288 with 1 Axes>"
      ]
     },
     "metadata": {
      "needs_background": "light"
     },
     "output_type": "display_data"
    }
   ],
   "source": [
    "plt.hist(train_data['stopa']);"
   ]
  },
  {
   "cell_type": "markdown",
   "metadata": {},
   "source": [
    "Założymy że dane są z rozkładu normalnego "
   ]
  },
  {
   "cell_type": "code",
   "execution_count": 31,
   "metadata": {},
   "outputs": [],
   "source": [
    "#Tworzymy trajektorę:\n",
    "#startujemy w danym punkcie i następny dzień będzie różnić się od poporzedniego o wylosowaną liczbę z rozkłądu normalnego\n",
    "def trajektoria(start,n,m,sd):\n",
    "    dzien = 1\n",
    "    trajektoria = []\n",
    "    for d in range(n):\n",
    "        dzien = dzien + np.random.normal(m,sd)\n",
    "        trajektoria.append(dzien)\n",
    "    return np.array(trajektoria) * start"
   ]
  },
  {
   "cell_type": "code",
   "execution_count": 49,
   "metadata": {},
   "outputs": [
    {
     "data": {
      "image/png": "[encoded data removed]",
      "text/plain": [
       "<Figure size 432x288 with 1 Axes>"
      ]
     },
     "metadata": {
      "needs_background": "light"
     },
     "output_type": "display_data"
    }
   ],
   "source": [
    "st = float(wig.loc[wig['Data']=='2019-01-02']['Zamkniecie']) # wartość początkowa 0 pierwszy dzień giełdowy w 2019\n",
    "tst_data = wig.loc[ (wig['Data'] >= '2019-01-01') & (wig['Data'] <= '2019-12-31')  ] \n",
    "#liczba dni notowań w 2019\n",
    "n = len(tst_data)\n",
    "#Rysujemy pojedynczą trajektorię\n",
    "t = trajektoria(st,n,m,sd)\n",
    "plt.plot(t);"
   ]
  },
  {
   "cell_type": "markdown",
   "metadata": {},
   "source": [
    "Tak wygląda przykłądowy scenariusz.\n",
    "Teraz metodą Monte Carlo będziemy generować n scenariuszy.\n",
    "Na ich podstawie wyliczymy średnią i dchylenie możliwych wartości na koniec 2019 roku"
   ]
  },
  {
   "cell_type": "code",
   "execution_count": 33,
   "metadata": {},
   "outputs": [],
   "source": [
    "def symulacja(start,n,m,sd,n_symul):\n",
    "    wynik = []\n",
    "    for i in range(n_symul):\n",
    "        tr = trajektoria(st,n,m,sd)\n",
    "        wynik.append(tr[-1])\n",
    "    return wynik\n",
    "\n",
    "rozklad_wynik = symulacja(st,n,m,sd,10000)  "
   ]
  },
  {
   "cell_type": "code",
   "execution_count": 37,
   "metadata": {},
   "outputs": [
    {
     "data": {
      "image/png": "[encoded data removed]",
      "text/plain": [
       "<Figure size 432x288 with 1 Axes>"
      ]
     },
     "metadata": {
      "needs_background": "light"
     },
     "output_type": "display_data"
    }
   ],
   "source": [
    "plt.hist(rozklad_wynik);"
   ]
  },
  {
   "cell_type": "code",
   "execution_count": 35,
   "metadata": {},
   "outputs": [
    {
     "name": "stdout",
     "output_type": "stream",
     "text": [
      "Wg symulcji Monte Carlo cena wynosi 2327.6814045463516 +- 400.1467093985798 a wartoc realna to 2150.09\n"
     ]
    }
   ],
   "source": [
    "real = float(wig.loc[wig['Data']=='2019-12-30']['Zamkniecie'])\n",
    "\n",
    "wynik_m = np.mean(rozklad_wynik)\n",
    "wynik_sd = np.std(rozklad_wynik)\n",
    "\n",
    "print('Wg symulcji Monte Carlo cena wynosi {0} +- {1} a wartoc realna to {2}'.format(wynik_m,wynik_sd,real))"
   ]
  }
 ],
 "metadata": {
  "kernelspec": {
   "display_name": "Python 3",
   "language": "python",
   "name": "python3"
  },
  "language_info": {
   "codemirror_mode": {
    "name": "ipython",
    "version": 3
   },
   "file_extension": ".py",
   "mimetype": "text/x-python",
   "name": "python",
   "nbconvert_exporter": "python",
   "pygments_lexer": "ipython3",
   "version": "3.6.8"
  }
 },
 "nbformat": 4,
 "nbformat_minor": 2
}
